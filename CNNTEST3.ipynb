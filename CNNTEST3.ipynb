{
 "cells": [
  {
   "cell_type": "markdown",
   "id": "f3a04e86-7448-439f-a6f6-a788a07047c1",
   "metadata": {},
   "source": [
    "#CNN_TEST3 C드라이브 (파일, 이미지 저장)\n",
    "## 이미지 전처리 확인, 모델 재학습, 이미지 품질 개선.. => 이미지이 전처리와 모델의 학습 상태\n",
    "## 입력 이미지 크기가 화면에 꽉차야 됨 "
   ]
  },
  {
   "cell_type": "code",
   "execution_count": 1,
   "id": "020149c6-a9b9-406b-8aa5-7e827aa34084",
   "metadata": {},
   "outputs": [],
   "source": [
    "import numpy as np\n",
    "import pandas as pd\n",
    "import matplotlib.pyplot as plt"
   ]
  },
  {
   "cell_type": "code",
   "execution_count": 2,
   "id": "4b2c108c-171c-42c6-beb7-990072b4ea4d",
   "metadata": {},
   "outputs": [],
   "source": [
    "import tensorflow as tf #deeplearning library #tensorflow는 신경망을 구축하고 학습시키는 데 사"
   ]
  },
  {
   "cell_type": "code",
   "execution_count": 3,
   "id": "e5152e6c-559a-41e1-afed-84cd02b5b016",
   "metadata": {},
   "outputs": [],
   "source": [
    "(data_train, label_train), (data_test, label_test) = tf.keras.datasets.mnist.load_data() \n",
    "#mnist 손글씨 숫자 데이터 셋으로\n",
    "#특징: 28 x 28 픽셀의 흑백 이미지로 구성된 숫자, 학습용 데이터셋: 60,000개의 이미지와 레이블, 테스트용 데이터 셋: 10,000개의 이미지와 레이블 \n",
    "#date_train: 학습용 데이터 이미지 배열 , label_train: 학습용 데이터 레이블 배열 (각 이미지의 실제 숫자값)"
   ]
  },
  {
   "cell_type": "code",
   "execution_count": 4,
   "id": "9d510778-1e55-4a6c-a623-57f8d31811e9",
   "metadata": {},
   "outputs": [
    {
     "data": {
      "text/plain": [
       "((60000, 28, 28), (10000, 28, 28))"
      ]
     },
     "execution_count": 4,
     "metadata": {},
     "output_type": "execute_result"
    }
   ],
   "source": [
    "data_train.shape, data_test.shape"
   ]
  },
  {
   "cell_type": "code",
   "execution_count": 5,
   "id": "1e2ce6b3-d6a4-41ab-bd74-117531c3f4c0",
   "metadata": {},
   "outputs": [
    {
     "data": {
      "text/plain": [
       "((70000, 28, 28), (70000,))"
      ]
     },
     "execution_count": 5,
     "metadata": {},
     "output_type": "execute_result"
    }
   ],
   "source": [
    "data=np.concatenate((data_train,data_test),axis=0)\n",
    "label=np.concatenate((label_train,label_test),axis=0)\n",
    "data.shape, label.shape\n",
    "#np.concatenate()는 두개 이상의 배열 연결 함수 , 기본적으로 배열을 지정한 축으로 기준으로 합침\n",
    "#data_train , date_test 학습용과 테스트용 데이터로 두 배열을 합쳐서 하나의 큰 배열을 만들고자 하는 목적\n",
    "#axis = 0: 배열을 0번축(행방향)을 기준으로 합침 => data_train data_test 의 행을 합쳐서 새로운 배열 만듦\n",
    "\n"
   ]
  },
  {
   "cell_type": "code",
   "execution_count": 6,
   "id": "b641e03f-0a09-495f-a793-3b4854f7c20c",
   "metadata": {},
   "outputs": [],
   "source": [
    "from sklearn.model_selection import train_test_split\n",
    "train_input,test_input,train_output,test_output=train_test_split(data,label,test_size=0.2)"
   ]
  },
  {
   "cell_type": "code",
   "execution_count": 7,
   "id": "c8f835d5-2298-4cd3-9cbc-6ca9c23a756f",
   "metadata": {},
   "outputs": [],
   "source": [
    "from keras.models import Sequential\n",
    "from keras.layers import Dense\n",
    "from keras.layers import Dropout\n",
    "from keras.layers import Conv2D #kernel\n",
    "from keras.layers import Flatten \n",
    "from keras.layers import MaxPooling2D #pooling"
   ]
  },
  {
   "cell_type": "code",
   "execution_count": 8,
   "id": "d878b5c6-d05e-4480-9b82-e50941fbe8bf",
   "metadata": {},
   "outputs": [
    {
     "name": "stderr",
     "output_type": "stream",
     "text": [
      "C:\\Users\\used3\\anaconda3\\Lib\\site-packages\\keras\\src\\layers\\convolutional\\base_conv.py:107: UserWarning: Do not pass an `input_shape`/`input_dim` argument to a layer. When using Sequential models, prefer using an `Input(shape)` object as the first layer in the model instead.\n",
      "  super().__init__(activity_regularizer=activity_regularizer, **kwargs)\n"
     ]
    }
   ],
   "source": [
    "Cnn=Sequential()\n",
    "Cnn.add(Conv2D(3, input_shape=(28,28,1), kernel_size=(3,3),padding=\"same\", activation=\"relu\"))\n",
    "Cnn.add(MaxPooling2D(2))\n",
    "Cnn.add(Flatten())\n",
    "Cnn.add(Dense(200,activation=\"relu\"))\n",
    "Cnn.add(Dropout(0.2))\n",
    "Cnn.add(Dense(100,activation=\"relu\"))\n",
    "Cnn.add(Dense(10,activation=\"softmax\")) #0~9\n",
    "Cnn.compile(loss=\"sparse_categorical_crossentropy\",metrics=[\"accuracy\"],optimizer=\"adam\")\n",
    "#오류는 Keras에서 metrics 인자가 리스트, 튜플, 또는 딕셔너리 형태여야 하는데, 문자열 (\"accuracy\")전달해서 발생\n",
    "#해결하려면 metrics 인자를 리스트로 변경\n",
    "#keras가 Sequential 모델에서 input_shape를 직접 Conv2D 레이어에 전달하는 대신, \n",
    "#Input(shape=...)을 사용하는 것을 권장하고 있음을 경고하는 내용"
   ]
  },
  {
   "cell_type": "code",
   "execution_count": 9,
   "id": "6fd2509f-428a-462c-91e0-af5d2362c9ba",
   "metadata": {},
   "outputs": [],
   "source": [
    "from tensorflow.keras.models import Sequential\n",
    "from tensorflow.keras.layers import Conv2D, MaxPooling2D, Flatten, Dense, Dropout, Input\n",
    "\n",
    "Cnn = Sequential()\n",
    "Cnn.add(Input(shape=(28, 28, 1)))  # 입력 모양을 Input 레이어로 정의\n",
    "Cnn.add(Conv2D(3, kernel_size=(3, 3), padding=\"same\", activation=\"relu\"))\n",
    "Cnn.add(MaxPooling2D(2))\n",
    "Cnn.add(Flatten())\n",
    "Cnn.add(Dense(200, activation=\"relu\"))\n",
    "Cnn.add(Dropout(0.2))\n",
    "Cnn.add(Dense(100, activation=\"relu\"))\n",
    "Cnn.add(Dense(10, activation=\"softmax\"))  # 0~9\n",
    "Cnn.compile(loss=\"sparse_categorical_crossentropy\", metrics=[\"accuracy\"], optimizer=\"adam\")\n",
    "#Keras는 이전에는 Conv2D와 같은 레이어의 input_shape 매개변수를 통해 입력 크기를 지정 할 수 있었음. \n",
    "#현재는 더 구조화된 방식으로 Input(shape=...)을 사용=> 입력을 정의하는 것이 권장"
   ]
  },
  {
   "cell_type": "code",
   "execution_count": 10,
   "id": "dc516010-0197-4c2d-8080-89a128af1618",
   "metadata": {},
   "outputs": [
    {
     "name": "stdout",
     "output_type": "stream",
     "text": [
      "Epoch 1/5\n",
      "\u001b[1m560/560\u001b[0m \u001b[32m━━━━━━━━━━━━━━━━━━━━\u001b[0m\u001b[37m\u001b[0m \u001b[1m4s\u001b[0m 4ms/step - accuracy: 0.7739 - loss: 4.5964\n",
      "Epoch 2/5\n",
      "\u001b[1m560/560\u001b[0m \u001b[32m━━━━━━━━━━━━━━━━━━━━\u001b[0m\u001b[37m\u001b[0m \u001b[1m2s\u001b[0m 4ms/step - accuracy: 0.9245 - loss: 0.2961\n",
      "Epoch 3/5\n",
      "\u001b[1m560/560\u001b[0m \u001b[32m━━━━━━━━━━━━━━━━━━━━\u001b[0m\u001b[37m\u001b[0m \u001b[1m2s\u001b[0m 4ms/step - accuracy: 0.9496 - loss: 0.1733\n",
      "Epoch 4/5\n",
      "\u001b[1m560/560\u001b[0m \u001b[32m━━━━━━━━━━━━━━━━━━━━\u001b[0m\u001b[37m\u001b[0m \u001b[1m2s\u001b[0m 4ms/step - accuracy: 0.9596 - loss: 0.1355\n",
      "Epoch 5/5\n",
      "\u001b[1m560/560\u001b[0m \u001b[32m━━━━━━━━━━━━━━━━━━━━\u001b[0m\u001b[37m\u001b[0m \u001b[1m3s\u001b[0m 5ms/step - accuracy: 0.9677 - loss: 0.1038\n"
     ]
    },
    {
     "data": {
      "text/plain": [
       "<keras.src.callbacks.history.History at 0x18b9732b410>"
      ]
     },
     "execution_count": 10,
     "metadata": {},
     "output_type": "execute_result"
    }
   ],
   "source": [
    "Cnn.fit(train_input,train_output,epochs=5, batch_size=100)"
   ]
  },
  {
   "cell_type": "code",
   "execution_count": 11,
   "id": "57186d1b-906b-4049-bb6c-f35e9a081ec8",
   "metadata": {},
   "outputs": [],
   "source": [
    "import cv2"
   ]
  },
  {
   "cell_type": "code",
   "execution_count": 12,
   "id": "21ece88c-9ad0-4147-9e2f-6354e3cea162",
   "metadata": {},
   "outputs": [
    {
     "data": {
      "text/plain": [
       "<matplotlib.image.AxesImage at 0x18b8fd17e90>"
      ]
     },
     "execution_count": 12,
     "metadata": {},
     "output_type": "execute_result"
    },
    {
     "data": {
      "image/png": "[encoded data removed]",
      "text/plain": [
       "<Figure size 640x480 with 1 Axes>"
      ]
     },
     "metadata": {},
     "output_type": "display_data"
    }
   ],
   "source": [
    "test = cv2.imread(\"C:/CNN_TEST3/number_4.JPG\", cv2.IMREAD_GRAYSCALE)\n",
    "plt.imshow(test, cmap='gray')  # 흑백 이미지를 표시하려면 cmap='gray'를 추가\n"
   ]
  },
  {
   "cell_type": "code",
   "execution_count": 13,
   "id": "796700b3-07ad-4b81-8778-31fa500173d0",
   "metadata": {},
   "outputs": [
    {
     "data": {
      "text/plain": [
       "array([[255, 255, 255, ..., 255, 255, 255],\n",
       "       [255, 255, 255, ..., 255, 255, 255],\n",
       "       [255, 255, 255, ..., 255, 255, 255],\n",
       "       ...,\n",
       "       [255, 255, 255, ..., 255, 255, 255],\n",
       "       [255, 255, 255, ..., 255, 255, 255],\n",
       "       [255, 255, 255, ..., 255, 255, 255]], dtype=uint8)"
      ]
     },
     "execution_count": 13,
     "metadata": {},
     "output_type": "execute_result"
    }
   ],
   "source": [
    "test\n"
   ]
  },
  {
   "cell_type": "code",
   "execution_count": 15,
   "id": "3bfacba3-2a06-4ff7-8edb-2be04155a38b",
   "metadata": {},
   "outputs": [],
   "source": [
    "test_BW=255-test # 이 코드로 먼저 정의를 한 다음? "
   ]
  },
  {
   "cell_type": "code",
   "execution_count": 16,
   "id": "b8bf1623-bb59-4c24-8cdf-9e0acccbd9fc",
   "metadata": {},
   "outputs": [
    {
     "data": {
      "text/plain": [
       "<matplotlib.image.AxesImage at 0x18b9f82b3e0>"
      ]
     },
     "execution_count": 16,
     "metadata": {},
     "output_type": "execute_result"
    },
    {
     "data": {
      "image/png": "[encoded data removed]",
      "text/plain": [
       "<Figure size 640x480 with 1 Axes>"
      ]
     },
     "metadata": {},
     "output_type": "display_data"
    }
   ],
   "source": [
    "plt.imshow(test_BW) # imshow는 matplotlib.pyplot의 함수로, 이미지를 표시하는 역할\n",
    "#test_BW는 보통 cv2.imread() 같은 함수로 불러온 이미지를 저장한 변수. 만약 cv2.IMREAD_GRAYSCALE로 이미지를 읽었다면, \n",
    "#test_BW는 그레이스케일 이미지 데이터가 됨"
   ]
  },
  {
   "cell_type": "code",
   "execution_count": 17,
   "id": "1c45a3f3-fce6-4235-a066-aee177c7cb34",
   "metadata": {},
   "outputs": [
    {
     "data": {
      "text/plain": [
       "(648, 1152)"
      ]
     },
     "execution_count": 17,
     "metadata": {},
     "output_type": "execute_result"
    }
   ],
   "source": [
    "test_BW.shape #test_BW.shape는 이미지의 모양을 알려주는 속성. 이미지는 일반적으로 2차원 또는 3차원 배열로 표현\n",
    "#(648, 1152)는 세로 648픽셀, 가로 1152픽셀 크기의 이미지를 의미\n",
    "#"
   ]
  },
  {
   "cell_type": "code",
   "execution_count": 18,
   "id": "e65404d0-a889-4190-a2e6-44ab3bf66e69",
   "metadata": {},
   "outputs": [
    {
     "data": {
      "text/plain": [
       "(28, 28)"
      ]
     },
     "execution_count": 18,
     "metadata": {},
     "output_type": "execute_result"
    }
   ],
   "source": [
    "test_BW_size=cv2.resize(test_BW,(28,28))\n",
    "test_BW_size.shape"
   ]
  },
  {
   "cell_type": "code",
   "execution_count": 19,
   "id": "282afa60-7d95-4f5e-aa33-4dda355522ae",
   "metadata": {},
   "outputs": [
    {
     "data": {
      "text/plain": [
       "(1, 28, 28)"
      ]
     },
     "execution_count": 19,
     "metadata": {},
     "output_type": "execute_result"
    }
   ],
   "source": [
    "test_BW_size_re=test_BW_size.reshape(1,28,28)\n",
    "test_BW_size_re.shape"
   ]
  },
  {
   "cell_type": "code",
   "execution_count": 21,
   "id": "2ffc33ce-2ef6-4004-855e-e5e12be88326",
   "metadata": {},
   "outputs": [
    {
     "name": "stdout",
     "output_type": "stream",
     "text": [
      "\u001b[1m1/1\u001b[0m \u001b[32m━━━━━━━━━━━━━━━━━━━━\u001b[0m\u001b[37m\u001b[0m \u001b[1m0s\u001b[0m 32ms/step\n"
     ]
    },
    {
     "data": {
      "text/plain": [
       "array([[0.00187592, 0.01505018, 0.02428653, 0.02435677, 0.17364582,\n",
       "        0.40497622, 0.03289698, 0.01093976, 0.03160496, 0.28036684]],\n",
       "      dtype=float32)"
      ]
     },
     "execution_count": 21,
     "metadata": {},
     "output_type": "execute_result"
    }
   ],
   "source": [
    "Cnn.predict(test_BW_size_re)"
   ]
  },
  {
   "cell_type": "code",
   "execution_count": 20,
   "id": "b571d3a5-1fa3-4c4f-9241-1c4a9bd018d1",
   "metadata": {},
   "outputs": [
    {
     "name": "stdout",
     "output_type": "stream",
     "text": [
      "\u001b[1m1/1\u001b[0m \u001b[32m━━━━━━━━━━━━━━━━━━━━\u001b[0m\u001b[37m\u001b[0m \u001b[1m0s\u001b[0m 92ms/step\n"
     ]
    },
    {
     "data": {
      "text/plain": [
       "5"
      ]
     },
     "execution_count": 20,
     "metadata": {},
     "output_type": "execute_result"
    }
   ],
   "source": [
    "np.argmax(Cnn.predict(test_BW_size_re))"
   ]
  },
  {
   "cell_type": "code",
   "execution_count": null,
   "id": "3b837b57-2faa-432f-addc-9e75ba26d9fb",
   "metadata": {},
   "outputs": [],
   "source": []
  }
 ],
 "metadata": {
  "kernelspec": {
   "display_name": "Python 3 (ipykernel)",
   "language": "python",
   "name": "python3"
  },
  "language_info": {
   "codemirror_mode": {
    "name": "ipython",
    "version": 3
   },
   "file_extension": ".py",
   "mimetype": "text/x-python",
   "name": "python",
   "nbconvert_exporter": "python",
   "pygments_lexer": "ipython3",
   "version": "3.12.7"
  }
 },
 "nbformat": 4,
 "nbformat_minor": 5
}
