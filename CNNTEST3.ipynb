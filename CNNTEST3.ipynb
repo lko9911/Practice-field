{
 "cells": [
  {
   "cell_type": "markdown",
   "id": "f3a04e86-7448-439f-a6f6-a788a07047c1",
   "metadata": {},
   "source": [
    "#CNN_TEST3 C드라이브 (파일, 이미지 저장)\n",
    "## 이미지 전처리 확인, 모델 재학습, 이미지 품질 개선.. => 이미지이 전처리와 모델의 학습 상태\n",
    "## 입력 이미지 크기가 화면에 꽉차야 됨 "
   ]
  },
  {
   "cell_type": "code",
   "execution_count": 1,
   "id": "020149c6-a9b9-406b-8aa5-7e827aa34084",
   "metadata": {},
   "outputs": [],
   "source": [
    "import numpy as np\n",
    "import pandas as pd\n",
    "import matplotlib.pyplot as plt"
   ]
  },
  {
   "cell_type": "code",
   "execution_count": 2,
   "id": "4b2c108c-171c-42c6-beb7-990072b4ea4d",
   "metadata": {},
   "outputs": [],
   "source": [
    "import tensorflow as tf #deeplearning library #tensorflow는 신경망을 구축하고 학습시키는 데 사"
   ]
  },
  {
   "cell_type": "code",
   "execution_count": 3,
   "id": "e5152e6c-559a-41e1-afed-84cd02b5b016",
   "metadata": {},
   "outputs": [],
   "source": [
    "(data_train, label_train), (data_test, label_test) = tf.keras.datasets.mnist.load_data() \n",
    "#mnist 손글씨 숫자 데이터 셋으로\n",
    "#특징: 28 x 28 픽셀의 흑백 이미지로 구성된 숫자, 학습용 데이터셋: 60,000개의 이미지와 레이블, 테스트용 데이터 셋: 10,000개의 이미지와 레이블 \n",
    "#date_train: 학습용 데이터 이미지 배열 , label_train: 학습용 데이터 레이블 배열 (각 이미지의 실제 숫자값)"
   ]
  },
  {
   "cell_type": "code",
   "execution_count": 4,
   "id": "9d510778-1e55-4a6c-a623-57f8d31811e9",
   "metadata": {},
   "outputs": [
    {
     "data": {
      "text/plain": [
       "((60000, 28, 28), (10000, 28, 28))"
      ]
     },
     "execution_count": 4,
     "metadata": {},
     "output_type": "execute_result"
    }
   ],
   "source": [
    "data_train.shape, data_test.shape"
   ]
  },
  {
   "cell_type": "code",
   "execution_count": 5,
   "id": "1e2ce6b3-d6a4-41ab-bd74-117531c3f4c0",
   "metadata": {},
   "outputs": [
    {
     "data": {
      "text/plain": [
       "((70000, 28, 28), (70000,))"
      ]
     },
     "execution_count": 5,
     "metadata": {},
     "output_type": "execute_result"
    }
   ],
   "source": [
    "data=np.concatenate((data_train,data_test),axis=0)\n",
    "label=np.concatenate((label_train,label_test),axis=0)\n",
    "data.shape, label.shape\n",
    "#np.concatenate()는 두개 이상의 배열 연결 함수 , 기본적으로 배열을 지정한 축으로 기준으로 합침\n",
    "#data_train , date_test 학습용과 테스트용 데이터로 두 배열을 합쳐서 하나의 큰 배열을 만들고자 하는 목적\n",
    "#axis = 0: 배열을 0번축(행방향)을 기준으로 합침 => data_train data_test 의 행을 합쳐서 새로운 배열 만듦\n",
    "\n"
   ]
  },
  {
   "cell_type": "code",
   "execution_count": 6,
   "id": "b641e03f-0a09-495f-a793-3b4854f7c20c",
   "metadata": {},
   "outputs": [],
   "source": [
    "from sklearn.model_selection import train_test_split\n",
    "train_input,test_input,train_output,test_output=train_test_split(data,label,test_size=0.2)"
   ]
  },
  {
   "cell_type": "code",
   "execution_count": 7,
   "id": "c8f835d5-2298-4cd3-9cbc-6ca9c23a756f",
   "metadata": {},
   "outputs": [],
   "source": [
    "from keras.models import Sequential\n",
    "from keras.layers import Dense\n",
    "from keras.layers import Dropout\n",
    "from keras.layers import Conv2D #kernel\n",
    "from keras.layers import Flatten \n",
    "from keras.layers import MaxPooling2D #pooling"
   ]
  },
  {
   "cell_type": "code",
   "execution_count": 8,
   "id": "d878b5c6-d05e-4480-9b82-e50941fbe8bf",
   "metadata": {},
   "outputs": [
    {
     "name": "stderr",
     "output_type": "stream",
     "text": [
      "C:\\Users\\used3\\anaconda3\\Lib\\site-packages\\keras\\src\\layers\\convolutional\\base_conv.py:107: UserWarning: Do not pass an `input_shape`/`input_dim` argument to a layer. When using Sequential models, prefer using an `Input(shape)` object as the first layer in the model instead.\n",
      "  super().__init__(activity_regularizer=activity_regularizer, **kwargs)\n"
     ]
    }
   ],
   "source": [
    "Cnn=Sequential()\n",
    "Cnn.add(Conv2D(3, input_shape=(28,28,1), kernel_size=(3,3),padding=\"same\", activation=\"relu\"))\n",
    "Cnn.add(MaxPooling2D(2))\n",
    "Cnn.add(Flatten())\n",
    "Cnn.add(Dense(200,activation=\"relu\"))\n",
    "Cnn.add(Dropout(0.2))\n",
    "Cnn.add(Dense(100,activation=\"relu\"))\n",
    "Cnn.add(Dense(10,activation=\"softmax\")) #0~9\n",
    "Cnn.compile(loss=\"sparse_categorical_crossentropy\",metrics=[\"accuracy\"],optimizer=\"adam\")\n",
    "#오류는 Keras에서 metrics 인자가 리스트, 튜플, 또는 딕셔너리 형태여야 하는데, 문자열 (\"accuracy\")전달해서 발생\n",
    "#해결하려면 metrics 인자를 리스트로 변경\n",
    "#keras가 Sequential 모델에서 input_shape를 직접 Conv2D 레이어에 전달하는 대신, \n",
    "#Input(shape=...)을 사용하는 것을 권장하고 있음을 경고하는 내용"
   ]
  },
  {
   "cell_type": "code",
   "execution_count": 9,
   "id": "6fd2509f-428a-462c-91e0-af5d2362c9ba",
   "metadata": {},
   "outputs": [],
   "source": [
    "from tensorflow.keras.models import Sequential\n",
    "from tensorflow.keras.layers import Conv2D, MaxPooling2D, Flatten, Dense, Dropout, Input\n",
    "\n",
    "Cnn = Sequential()\n",
    "Cnn.add(Input(shape=(28, 28, 1)))  # 입력 모양을 Input 레이어로 정의\n",
    "Cnn.add(Conv2D(3, kernel_size=(3, 3), padding=\"same\", activation=\"relu\"))\n",
    "Cnn.add(MaxPooling2D(2))\n",
    "Cnn.add(Flatten())\n",
    "Cnn.add(Dense(200, activation=\"relu\"))\n",
    "Cnn.add(Dropout(0.2))\n",
    "Cnn.add(Dense(100, activation=\"relu\"))\n",
    "Cnn.add(Dense(10, activation=\"softmax\"))  # 0~9\n",
    "Cnn.compile(loss=\"sparse_categorical_crossentropy\", metrics=[\"accuracy\"], optimizer=\"adam\")\n",
    "#Keras는 이전에는 Conv2D와 같은 레이어의 input_shape 매개변수를 통해 입력 크기를 지정 할 수 있었음. \n",
    "#현재는 더 구조화된 방식으로 Input(shape=...)을 사용=> 입력을 정의하는 것이 권장"
   ]
  },
  {
   "cell_type": "code",
   "execution_count": 10,
   "id": "dc516010-0197-4c2d-8080-89a128af1618",
   "metadata": {},
   "outputs": [
    {
     "name": "stdout",
     "output_type": "stream",
     "text": [
      "Epoch 1/5\n",
      "\u001b[1m560/560\u001b[0m \u001b[32m━━━━━━━━━━━━━━━━━━━━\u001b[0m\u001b[37m\u001b[0m \u001b[1m4s\u001b[0m 4ms/step - accuracy: 0.7739 - loss: 4.5964\n",
      "Epoch 2/5\n",
      "\u001b[1m560/560\u001b[0m \u001b[32m━━━━━━━━━━━━━━━━━━━━\u001b[0m\u001b[37m\u001b[0m \u001b[1m2s\u001b[0m 4ms/step - accuracy: 0.9245 - loss: 0.2961\n",
      "Epoch 3/5\n",
      "\u001b[1m560/560\u001b[0m \u001b[32m━━━━━━━━━━━━━━━━━━━━\u001b[0m\u001b[37m\u001b[0m \u001b[1m2s\u001b[0m 4ms/step - accuracy: 0.9496 - loss: 0.1733\n",
      "Epoch 4/5\n",
      "\u001b[1m560/560\u001b[0m \u001b[32m━━━━━━━━━━━━━━━━━━━━\u001b[0m\u001b[37m\u001b[0m \u001b[1m2s\u001b[0m 4ms/step - accuracy: 0.9596 - loss: 0.1355\n",
      "Epoch 5/5\n",
      "\u001b[1m560/560\u001b[0m \u001b[32m━━━━━━━━━━━━━━━━━━━━\u001b[0m\u001b[37m\u001b[0m \u001b[1m3s\u001b[0m 5ms/step - accuracy: 0.9677 - loss: 0.1038\n"
     ]
    },
    {
     "data": {
      "text/plain": [
       "<keras.src.callbacks.history.History at 0x18b9732b410>"
      ]
     },
     "execution_count": 10,
     "metadata": {},
     "output_type": "execute_result"
    }
   ],
   "source": [
    "Cnn.fit(train_input,train_output,epochs=5, batch_size=100)"
   ]
  },
  {
   "cell_type": "code",
   "execution_count": 11,
   "id": "57186d1b-906b-4049-bb6c-f35e9a081ec8",
   "metadata": {},
   "outputs": [],
   "source": [
    "import cv2"
   ]
  },
  {
   "cell_type": "code",
   "execution_count": 31,
   "id": "f9d0206e-5ceb-4852-83af-fb2d46e1e2fa",
   "metadata": {},
   "outputs": [
    {
     "data": {
      "text/plain": [
       "<matplotlib.image.AxesImage at 0x18b9c66f530>"
      ]
     },
     "execution_count": 31,
     "metadata": {},
     "output_type": "execute_result"
    },
    {
     "data": {
      "image/png": "[encoded data removed]",
      "text/plain": [
       "<Figure size 640x480 with 1 Axes>"
      ]
     },
     "metadata": {},
     "output_type": "display_data"
    }
   ],
   "source": [
    "test = cv2.imread(\"C:/CNN_TEST3/number_4.JPG\", cv2.IMREAD_GRAYSCALE)\n",
    "plt.imshow(test, cmap='gray')  # 흑백 이미지를 표시하려면 cmap='gray'를 추가"
   ]
  },
  {
   "cell_type": "code",
   "execution_count": 32,
   "id": "d513c132-a41c-457e-a3ca-cafca6bf10fc",
   "metadata": {},
   "outputs": [
    {
     "data": {
      "text/plain": [
       "array([[255, 255, 255, ..., 255, 255, 255],\n",
       "       [255, 255, 255, ..., 255, 255, 255],\n",
       "       [255, 255, 255, ..., 255, 255, 255],\n",
       "       ...,\n",
       "       [255, 255, 255, ..., 255, 255, 255],\n",
       "       [255, 255, 255, ..., 255, 255, 255],\n",
       "       [255, 255, 255, ..., 255, 255, 255]], dtype=uint8)"
      ]
     },
     "execution_count": 32,
     "metadata": {},
     "output_type": "execute_result"
    }
   ],
   "source": [
    "test"
   ]
  },
  {
   "cell_type": "code",
   "execution_count": 33,
   "id": "2d17203d-6050-46ec-8c7f-6f9ddb20b090",
   "metadata": {},
   "outputs": [],
   "source": [
    "test_BW=255-test"
   ]
  },
  {
   "cell_type": "code",
   "execution_count": 34,
   "id": "e1dc7e03-99f2-4cdc-9525-c3d941882494",
   "metadata": {},
   "outputs": [
    {
     "data": {
      "text/plain": [
       "<matplotlib.image.AxesImage at 0x18b9c66f5f0>"
      ]
     },
     "execution_count": 34,
     "metadata": {},
     "output_type": "execute_result"
    },
    {
     "data": {
      "image/png": "[encoded data removed]",
      "text/plain": [
       "<Figure size 640x480 with 1 Axes>"
      ]
     },
     "metadata": {},
     "output_type": "display_data"
    }
   ],
   "source": [
    "plt.imshow(test_BW)"
   ]
  },
  {
   "cell_type": "code",
   "execution_count": 35,
   "id": "107936b3-ef00-4400-99cb-d4f7c91bc524",
   "metadata": {},
   "outputs": [
    {
     "data": {
      "text/plain": [
       "(321, 396)"
      ]
     },
     "execution_count": 35,
     "metadata": {},
     "output_type": "execute_result"
    }
   ],
   "source": [
    "test_BW.shape"
   ]
  },
  {
   "cell_type": "code",
   "execution_count": 36,
   "id": "0427c037-ac78-4a14-858d-35ae6ec72c79",
   "metadata": {},
   "outputs": [
    {
     "data": {
      "text/plain": [
       "(28, 28)"
      ]
     },
     "execution_count": 36,
     "metadata": {},
     "output_type": "execute_result"
    }
   ],
   "source": [
    "test_BW_size=cv2.resize(test_BW,(28,28))\n",
    "test_BW_size.shape"
   ]
  },
  {
   "cell_type": "code",
   "execution_count": 37,
   "id": "8f747f99-3e90-46a4-8623-6b1037393a02",
   "metadata": {},
   "outputs": [
    {
     "data": {
      "text/plain": [
       "(1, 28, 28)"
      ]
     },
     "execution_count": 37,
     "metadata": {},
     "output_type": "execute_result"
    }
   ],
   "source": [
    "test_BW_size_re=test_BW_size.reshape(1,28,28)\n",
    "test_BW_size_re.shape"
   ]
  },
  {
   "cell_type": "code",
   "execution_count": 38,
   "id": "e37bdc82-dd90-461a-9ad4-efe9cd0e2162",
   "metadata": {},
   "outputs": [
    {
     "name": "stdout",
     "output_type": "stream",
     "text": [
      "\u001b[1m1/1\u001b[0m \u001b[32m━━━━━━━━━━━━━━━━━━━━\u001b[0m\u001b[37m\u001b[0m \u001b[1m0s\u001b[0m 83ms/step\n"
     ]
    },
    {
     "data": {
      "text/plain": [
       "array([[1.7315675e-07, 2.1157134e-03, 1.3225813e-05, 4.4474764e-05,\n",
       "        2.5369893e-03, 1.5102481e-07, 1.3170393e-09, 9.9528873e-01,\n",
       "        3.3735422e-08, 4.8968826e-07]], dtype=float32)"
      ]
     },
     "execution_count": 38,
     "metadata": {},
     "output_type": "execute_result"
    }
   ],
   "source": [
    "Cnn.predict(test_BW_size_re)"
   ]
  },
  {
   "cell_type": "code",
   "execution_count": 39,
   "id": "fdba215e-8b41-4d62-b053-c8f64a6dd98c",
   "metadata": {},
   "outputs": [
    {
     "name": "stdout",
     "output_type": "stream",
     "text": [
      "\u001b[1m1/1\u001b[0m \u001b[32m━━━━━━━━━━━━━━━━━━━━\u001b[0m\u001b[37m\u001b[0m \u001b[1m0s\u001b[0m 79ms/step\n"
     ]
    },
    {
     "data": {
      "text/plain": [
       "7"
      ]
     },
     "execution_count": 39,
     "metadata": {},
     "output_type": "execute_result"
    }
   ],
   "source": [
    "np.argmax(Cnn.predict(test_BW_size_re))"
   ]
  },
  {
   "cell_type": "code",
   "execution_count": null,
   "id": "a88291c7-39a3-4fcb-a446-7c31b760a887",
   "metadata": {},
   "outputs": [],
   "source": []
  }
 ],
 "metadata": {
  "kernelspec": {
   "display_name": "Python 3 (ipykernel)",
   "language": "python",
   "name": "python3"
  },
  "language_info": {
   "codemirror_mode": {
    "name": "ipython",
    "version": 3
   },
   "file_extension": ".py",
   "mimetype": "text/x-python",
   "name": "python",
   "nbconvert_exporter": "python",
   "pygments_lexer": "ipython3",
   "version": "3.12.7"
  }
 },
 "nbformat": 4,
 "nbformat_minor": 5
}
