{
 "cells": [
  {
   "cell_type": "markdown",
   "id": "ff829057-fcaf-44c4-ae41-b182f8753a31",
   "metadata": {},
   "source": [
    "# 예측 성능이 떨어지고, 예측이 제대로 실행 되지 않음 \n",
    "###1.훈련 데이터셋의 불균형: 7과 4를 잘 구별하지 못하도록 훈련되었을 가능성 \n",
    "###2.모델 과적합: 모델이 훈련 데이터에서 너무 많은 세부 사항을 학습해 예측할 이미지에서 잘 일반화되지 않는 경우\n",
    "###3.숫자 7을 잘 예측하지 못하는 이유: 모델이 숫자 7을 충분히 구별할 수 있는 능력을 갖추지 못함 => 모델을 더 깊게 만들거나, 컨볼루션 층(Conv2D)을 추가하여 특징을 더 잘 학습할 수 있도록 해야 함. (층 을 추가하거나, 필터의 수를 늘리기 )\n",
    "###4. 모델 예측 확률: 확률 분포에서 9.99979734e-01이 4번 클래스에 대한 확률이므로, 모델은 해당 클래스에 대해 매우 높은 확률을 예측. 이 값은 7과는 전혀 다른 숫자이므로, 모델이 실제로 7을 잘 구별하지 못함.\n",
    "###5.해결책: 모델을 재훈련하고, 오버샘플링 또는 언더샘플링 기법을 사용해 학습을 개선하거나, 다양한 숫자 모양을 훈련시켜 모델을 더 잘 일반화\n",
    "###6. 7의 이미지를 다양하게 증강하여 모델에 더 많은 7 이미지를 학습시킨 후 모델이 숫자 7을 보다 정확하게 예측할 확률이 높아질 것으로 예상. => 증강된 데이터로 모델을 재학습시킨 후 예측을 실행 => 데이터 불균형 문제를 해결 \n",
    "###from tensorflow.keras.preprocessing.image import ImageDataGenerator\n",
    "\n",
    "# 이미지 증강기 설정 (회전, 이동, 확대/축소 등)\n",
    "datagen = ImageDataGenerator(\n",
    "    rotation_range=20,       # 회전 범위\n",
    "    width_shift_range=0.2,   # 좌우 이동 범위\n",
    "    height_shift_range=0.2,  # 상하 이동 범위\n",
    "    shear_range=0.2,         # 기울기 범위\n",
    "    zoom_range=0.2,          # 확대/축소 범위\n",
    "    horizontal_flip=True,    # 수평 반전\n",
    "    fill_mode='nearest'      # 빈 공간 채우는 방식\n",
    ")\n",
    "\n",
    "# 모델을 훈련하는 데 사용할 데이터 증강\n",
    "train_data_gen = datagen.flow(train_images, train_labels, batch_size=32)\n",
    "\n",
    "# 모델 재훈련\n",
    "model.fit(train_data_gen, epochs=10, steps_per_epoch=len(train_images) // 32)\n"
   ]
  }
 ],
 "metadata": {
  "kernelspec": {
   "display_name": "Python 3 (ipykernel)",
   "language": "python",
   "name": "python3"
  },
  "language_info": {
   "codemirror_mode": {
    "name": "ipython",
    "version": 3
   },
   "file_extension": ".py",
   "mimetype": "text/x-python",
   "name": "python",
   "nbconvert_exporter": "python",
   "pygments_lexer": "ipython3",
   "version": "3.12.7"
  }
 },
 "nbformat": 4,
 "nbformat_minor": 5
}
