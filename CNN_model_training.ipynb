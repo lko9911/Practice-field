{
 "cells": [
  {
   "cell_type": "markdown",
   "id": "ff829057-fcaf-44c4-ae41-b182f8753a31",
   "metadata": {},
   "source": [
    "# 예측 성능이 떨어지고, 예측이 제대로 실행 되지 않음 \n",
    "###1.훈련 데이터셋의 불균형: 7과 4를 잘 구별하지 못하도록 훈련되었을 가능성 \n",
    "###2.모델 과적합: 모델이 훈련 데이터에서 너무 많은 세부 사항을 학습해 예측할 이미지에서 잘 일반화되지 않는 경우\n",
    "###3.숫자 7을 잘 예측하지 못하는 이유: 모델이 숫자 7을 충분히 구별할 수 있는 능력을 갖추지 못함 => 모델을 더 깊게 만들거나, 컨볼루션 층(Conv2D)을 추가하여 특징을 더 잘 학습할 수 있도록 해야 함. (층 을 추가하거나, 필터의 수를 늘리기 )\n",
    "###4. 모델 예측 확률: 확률 분포에서 9.99979734e-01이 4번 클래스에 대한 확률이므로, 모델은 해당 클래스에 대해 매우 높은 확률을 예측. 이 값은 7과는 전혀 다른 숫자이므로, 모델이 실제로 7을 잘 구별하지 못함.\n",
    "###5.해결책: 모델을 재훈련하고, 오버샘플링 또는 언더샘플링 기법을 사용해 학습을 개선하거나, 다양한 숫자 모양을 훈련시켜 모델을 더 잘 일반화\n",
    "###6. 7의 이미지를 다양하게 증강하여 모델에 더 많은 7 이미지를 학습시킨 후 모델이 숫자 7을 보다 정확하게 예측할 확률이 높아질 것으로 예상. => 증강된 데이터로 모델을 재학습시킨 후 예측을 실행 => 데이터 불균형 문제를 해결 \n",
    "###from tensorflow.keras.preprocessing.image import ImageDataGenerator\n",
    "\n",
    "# 이미지 증강기 설정 (회전, 이동, 확대/축소 등)\n",
    "datagen = ImageDataGenerator(\n",
    "    rotation_range=20,       # 회전 범위\n",
    "    width_shift_range=0.2,   # 좌우 이동 범위\n",
    "    height_shift_range=0.2,  # 상하 이동 범위\n",
    "    shear_range=0.2,         # 기울기 범위\n",
    "    zoom_range=0.2,          # 확대/축소 범위\n",
    "    horizontal_flip=True,    # 수평 반전\n",
    "    fill_mode='nearest'      # 빈 공간 채우는 방식\n",
    ")\n",
    "\n",
    "# 모델을 훈련하는 데 사용할 데이터 증강\n",
    "train_data_gen = datagen.flow(train_images, train_labels, batch_size=32)\n",
    "\n",
    "# 모델 재훈련\n",
    "model.fit(train_data_gen, epochs=10, steps_per_epoch=len(train_images) // 32)\n"
   ]
  },
  {
   "cell_type": "markdown",
   "id": "9854935d-3c7d-40e8-ae96-c7b5afb25ec7",
   "metadata": {},
   "source": [
    "#CNN: 시각적으로 이미지 분석에 가장 일반적으로 사용되는 인공신경망의 한 종류 \n",
    "\n",
    "##1. 입력 이미지로부터 특징을 추출하여 입력 이미지가 어떤 이미지인지 클래스 분류\n",
    "특징 추출(feature learning) => 분류(classification)\n",
    "RELU function(활성화 함수), SOFTMAX 사용 \n",
    "이미지가 왜곡되더라도 이미지의 부분적 특성을 추출할 수 있어 올바른 성능을 낼 수 있다.\n",
    "\n",
    "###2. 합성곱 신경망 구조 \n",
    "신경망 구조에서 합성곱 계층과 풀링 계층이 추가됨(풀링 계층은 생략 가능)\n",
    "\n",
    "###3. 합성곱 연산이란\n",
    "이미지 처리에서 말하는 필터(마스크)연산에 해당 \n",
    "입력과 필터에서 대응하는 원소끼리 곱한 후 그 총합을 구하면 결과가 출력됨\n",
    "(반복=>사이즈가 줄어듬)  ==>> \n",
    "\n",
    "방지하기 위해(== 입력 데이터와 출력 데이터의 크기를 맞추기 위해 패딩 처리) \n",
    "패딩(padding)처리\n",
    "입력 데이터 주변을 특정 값(0)을 채우는 단계 \n",
    "\n",
    "###4. 합성곱 연산의 편향(bias)\n",
    "필터 적용 후 데이터에 편향이 더해짐\n",
    "###5. 스트라이드(stride)\n",
    "필터를 적용하는 위치의 간격을 말함\n",
    "###6. 3차원 데이터의 합성곱 연산\n",
    "3차원 이미지 데이터에 대해서, 필터도 이미지와 같은 채널의 개수를 갖고 있어야 함\n",
    "###7. 풀링 연산이란\n",
    "세로, 가로 방향의 공간을 줄이는 연산으로 예를들어 2x2 영역을 원소 하나로 집약하여 공간 크기를 줄임\n",
    "주로, 풀링의 윈도우 크기와 스트라이드의 값은 같게 설정\n",
    "1. 매개변수 없음 2. 채널수 변화 없음 \n",
    "###8. 완전 연결층 \n",
    "추출된 특징 값을 기존 신경망에 넣어서 이미지를 분류함 "
   ]
  }
 ],
 "metadata": {
  "kernelspec": {
   "display_name": "Python 3 (ipykernel)",
   "language": "python",
   "name": "python3"
  },
  "language_info": {
   "codemirror_mode": {
    "name": "ipython",
    "version": 3
   },
   "file_extension": ".py",
   "mimetype": "text/x-python",
   "name": "python",
   "nbconvert_exporter": "python",
   "pygments_lexer": "ipython3",
   "version": "3.12.7"
  }
 },
 "nbformat": 4,
 "nbformat_minor": 5
}
